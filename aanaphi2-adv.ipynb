{
 "cells": [
  {
   "cell_type": "code",
   "execution_count": null,
   "metadata": {},
   "outputs": [],
   "source": [
    "#Load model\n",
    "import transformers, torch\n",
    "\n",
    "torch.cuda.empty_cache()\n",
    "\n",
    "compute_dtype = torch.float16\n",
    "cache_path    = ''\n",
    "device        = 'cuda'\n",
    "model_id      = \"mobiuslabsgmbh/aanaphi2-v0.1\"\n",
    "model         = transformers.AutoModelForCausalLM.from_pretrained(model_id, torch_dtype=compute_dtype, \n",
    "                                                                  cache_dir=cache_path,\n",
    "                                                                  device_map=device)\n",
    "tokenizer     = transformers.AutoTokenizer.from_pretrained(model_id, cache_dir=cache_path)\n",
    "\n",
    "\n",
    "model = model.half()\n",
    "\n",
    "#Set Prompt format\n",
    "instruction_template = \"### Human: \"\n",
    "response_template    = \"### Assistant: \"\n",
    "def prompt_format(prompt):\n",
    "    out = instruction_template + prompt + '\\n' + response_template\n",
    "    return out\n",
    "model.eval();\n",
    "\n",
    "@torch.no_grad()\n",
    "def generate(prompt, max_length=500):\n",
    "    prompt_chat = prompt_format(prompt)\n",
    "    inputs      = tokenizer(prompt_chat, return_tensors=\"pt\", return_attention_mask=True).to('cuda')\n",
    "    outputs     = model.generate(**inputs, max_length=max_length, eos_token_id= tokenizer.eos_token_id) \n",
    "    text        = tokenizer.batch_decode(outputs[:,:-1])[0]\n",
    "    return text\n",
    "\n",
    "#Generate\n",
    "print(generate(input()))\n"
   ]
  }
 ],
 "metadata": {
  "kernelspec": {
   "display_name": ".venv",
   "language": "python",
   "name": "python3"
  },
  "language_info": {
   "codemirror_mode": {
    "name": "ipython",
    "version": 3
   },
   "file_extension": ".py",
   "mimetype": "text/x-python",
   "name": "python",
   "nbconvert_exporter": "python",
   "pygments_lexer": "ipython3",
   "version": "3.10.12"
  }
 },
 "nbformat": 4,
 "nbformat_minor": 2
}
