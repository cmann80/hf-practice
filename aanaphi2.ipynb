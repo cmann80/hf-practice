{
 "cells": [
  {
   "cell_type": "code",
   "execution_count": 1,
   "metadata": {},
   "outputs": [
    {
     "name": "stderr",
     "output_type": "stream",
     "text": [
      "Special tokens have been added in the vocabulary, make sure the associated word embeddings are fine-tuned or trained.\n"
     ]
    },
    {
     "data": {
      "application/vnd.jupyter.widget-view+json": {
       "model_id": "fae8c084c6a44b5c93bb2bb4d3538da7",
       "version_major": 2,
       "version_minor": 0
      },
      "text/plain": [
       "Loading checkpoint shards:   0%|          | 0/2 [00:00<?, ?it/s]"
      ]
     },
     "metadata": {},
     "output_type": "display_data"
    },
    {
     "name": "stderr",
     "output_type": "stream",
     "text": [
      "Setting `pad_token_id` to `eos_token_id`:2 for open-end generation.\n"
     ]
    },
    {
     "name": "stdout",
     "output_type": "stream",
     "text": [
      "I like boobs\"\n",
      "\n",
      "Track listing\n",
      "All songs written and composed by Lenny Kravitz, except where noted.\n",
      "\n",
      "Personnel\n",
      "Credits adapted from the liner notes of Lenny, EMI Records.\n",
      "\n",
      "Musicians\n",
      " Lenny Kravitz – lead vocals, guitar, keyboards\n",
      " Benmont Tench – keyboards\n",
      " David Piltch – bass guitar ; additional bass guitar, fretless bass guitar\n",
      " Steve Jordan – drums\n",
      "\n",
      "Additional musicians\n",
      " Steve Jordan – percussion\n",
      " Dave Pirner – percussion ; piano ; backing vocals \n",
      " Jeff Babko – backing vocals \n",
      " Tom Chapin – backing vocals \n",
      " Billy Burnette – backing vocals \n",
      " Mike Campbell – backing vocals ; guitars \n",
      " Bruce Gaitsch – backing vocals, guitars ; rhythm guitar \n",
      " Tim Pierce – guitar solo on \"I'm Not Gonna Back Down\"\n",
      " Tom Petty – backing vocals and harmonica on \"Heartburn Heaven\"\n",
      "\n",
      "Technical\n",
      " Lenny Kravitz – producer, mixing\n",
      " Steve Jordan – additional production\n",
      " Don Gilmore – production coordination\n",
      " Phil Gernard – assistant production coordination\n",
      " Kevin Beamish – engineer\n",
      " Paul Delph – engineer\n",
      " Eric Eylands – engineer\n",
      " Ed Brooks – engineer, tracking\n",
      " Eric Esquibel – 2nd tracking engineer\n",
      " Doug McKean – tracking engineer\n",
      " Sean Curd – mixing\n",
      " Bob Ludwig – mastering\n",
      "\n",
      "Artwork\n",
      " Anton Corbijn – photography\n",
      " Steven Klein – art direction, design\n",
      "\n",
      "Charts\n",
      "\n",
      "Weekly charts\n",
      "\n",
      "Year-end charts\n",
      "\n",
      "Certifications\n",
      "\n",
      "!scope=\"col\" colspan=\"3\"| RIAA Certification\n",
      "|-\n",
      "\n",
      "!scope=\"row\" colspan=\"3\"| Japan (Oricon)\n",
      "|-\n",
      "\n",
      "!scope=\"row\" colspan=\"3\"| Portugal (Associação Fonográfica Portuguesa)\n",
      "|-\n",
      "\n",
      "Release history\n",
      "\n",
      "Notes\n",
      "\n",
      "References\n",
      "\n",
      "Lenny Kravitz albums\n",
      "1999 albums\n",
      "Albums with cover art by Anton Corbijn\n",
      "EMI Records albums\n",
      "<|endoftext|>\n",
      "\n",
      "Title: Maitland, Northumberland\n",
      "Maitland  is a village and civil parish in the Northumberland National Park, in the Eden district in the county of Northumberland, England,  north-east of Bamburgh. The village sits on the banks of the River Allen, about  north-west of Amble\n"
     ]
    }
   ],
   "source": [
    "prompt = input()\n",
    "\n",
    "from transformers import AutoModelForCausalLM, AutoTokenizer\n",
    "\n",
    "device = \"cuda\"\n",
    "\n",
    "tokenizer = AutoTokenizer.from_pretrained(\"mobiuslabsgmbh/aanaphi2-v0.1\")\n",
    "model = AutoModelForCausalLM.from_pretrained(\"mobiuslabsgmbh/aanaphi2-v0.1\")\n",
    "\n",
    "model = model.half()\n",
    "\n",
    "model_inputs = tokenizer([prompt], return_tensors=\"pt\").to(device)\n",
    "model.to(device)\n",
    "\n",
    "generated_ids = model.generate(**model_inputs, max_new_tokens=500, do_sample=True)\n",
    "result = tokenizer.batch_decode(generated_ids)[0]\n",
    "\n",
    "print(result)"
   ]
  }
 ],
 "metadata": {
  "kernelspec": {
   "display_name": "Python 3",
   "language": "python",
   "name": "python3"
  },
  "language_info": {
   "codemirror_mode": {
    "name": "ipython",
    "version": 3
   },
   "file_extension": ".py",
   "mimetype": "text/x-python",
   "name": "python",
   "nbconvert_exporter": "python",
   "pygments_lexer": "ipython3",
   "version": "3.10.12"
  }
 },
 "nbformat": 4,
 "nbformat_minor": 2
}
